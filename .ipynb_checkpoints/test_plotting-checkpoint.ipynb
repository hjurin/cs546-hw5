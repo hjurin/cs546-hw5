{
 "cells": [
  {
   "cell_type": "code",
   "execution_count": 176,
   "metadata": {
    "collapsed": false
   },
   "outputs": [],
   "source": [
    "%matplotlib inline\n",
    "\n",
    "import matplotlib\n",
    "import matplotlib.pyplot as plot\n",
    "import numpy as np"
   ]
  },
  {
   "cell_type": "code",
   "execution_count": 62,
   "metadata": {
    "collapsed": false
   },
   "outputs": [],
   "source": [
    "import pandas as pd"
   ]
  },
  {
   "cell_type": "code",
   "execution_count": 63,
   "metadata": {
    "collapsed": false
   },
   "outputs": [],
   "source": [
    "et = pd.read_csv(\"genuine_elapsed_times.csv\", sep=';', delimiter=None, header='infer', names=None, index_col=None, usecols=None, squeeze=False, prefix=None, mangle_dupe_cols=True, dtype=None, engine=None, converters=None, true_values=None, false_values=None, skipinitialspace=False, skiprows=None, skipfooter=None, nrows=None, na_values=None, keep_default_na=True, na_filter=True, verbose=False, skip_blank_lines=True, parse_dates=False, infer_datetime_format=False, keep_date_col=False, date_parser=None, dayfirst=False, iterator=False, chunksize=None, compression='infer', thousands=None, decimal='.', lineterminator=None, quotechar='\"', quoting=0, escapechar=None, comment=None, encoding=None, dialect=None, tupleize_cols=False, error_bad_lines=True, warn_bad_lines=True, skip_footer=0, doublequote=True, delim_whitespace=False, as_recarray=False, compact_ints=False, use_unsigned=False, low_memory=True, buffer_lines=None, memory_map=False, float_precision=None)"
   ]
  },
  {
   "cell_type": "markdown",
   "metadata": {},
   "source": [
    "#### Transform timing results into speedups\n",
    "* s_ are the ones with a matrix of size 20\n",
    "* b_ are the ones with a matrix of size 8000"
   ]
  },
  {
   "cell_type": "code",
   "execution_count": 133,
   "metadata": {
    "collapsed": false
   },
   "outputs": [],
   "source": [
    "s_serial = et[(et.program == \"serial\") & (et.size_matrix == 20)].time\n",
    "b_serial = et[(et.program == \"serial\") & (et.size_matrix == 8000)].time\n",
    "et.speedup = et.time\n",
    "for i in range(len(et)):\n",
    "    coeff = float(s_serial) if et.size_matrix[i] == 20 else float(b_serial)\n",
    "    et.at[i, 'speedup'] = coeff / et.speedup[i]"
   ]
  },
  {
   "cell_type": "markdown",
   "metadata": {},
   "source": [
    "#### Extract results for each solution"
   ]
  },
  {
   "cell_type": "code",
   "execution_count": 152,
   "metadata": {
    "collapsed": false
   },
   "outputs": [
    {
     "data": {
      "text/html": [
       "<div>\n",
       "<table border=\"1\" class=\"dataframe\">\n",
       "  <thead>\n",
       "    <tr style=\"text-align: right;\">\n",
       "      <th></th>\n",
       "      <th>dim_grid</th>\n",
       "      <th>dim_block</th>\n",
       "      <th>speedup</th>\n",
       "    </tr>\n",
       "  </thead>\n",
       "  <tbody>\n",
       "    <tr>\n",
       "      <th>1</th>\n",
       "      <td>20.0</td>\n",
       "      <td>1.0</td>\n",
       "      <td>0.000076</td>\n",
       "    </tr>\n",
       "    <tr>\n",
       "      <th>2</th>\n",
       "      <td>10.0</td>\n",
       "      <td>2.0</td>\n",
       "      <td>0.000093</td>\n",
       "    </tr>\n",
       "    <tr>\n",
       "      <th>3</th>\n",
       "      <td>7.0</td>\n",
       "      <td>3.0</td>\n",
       "      <td>0.000093</td>\n",
       "    </tr>\n",
       "    <tr>\n",
       "      <th>4</th>\n",
       "      <td>5.0</td>\n",
       "      <td>4.0</td>\n",
       "      <td>0.000093</td>\n",
       "    </tr>\n",
       "    <tr>\n",
       "      <th>5</th>\n",
       "      <td>4.0</td>\n",
       "      <td>5.0</td>\n",
       "      <td>0.000093</td>\n",
       "    </tr>\n",
       "    <tr>\n",
       "      <th>6</th>\n",
       "      <td>4.0</td>\n",
       "      <td>6.0</td>\n",
       "      <td>0.000093</td>\n",
       "    </tr>\n",
       "    <tr>\n",
       "      <th>7</th>\n",
       "      <td>3.0</td>\n",
       "      <td>7.0</td>\n",
       "      <td>0.000093</td>\n",
       "    </tr>\n",
       "    <tr>\n",
       "      <th>8</th>\n",
       "      <td>3.0</td>\n",
       "      <td>8.0</td>\n",
       "      <td>0.000093</td>\n",
       "    </tr>\n",
       "    <tr>\n",
       "      <th>9</th>\n",
       "      <td>3.0</td>\n",
       "      <td>9.0</td>\n",
       "      <td>0.000093</td>\n",
       "    </tr>\n",
       "    <tr>\n",
       "      <th>10</th>\n",
       "      <td>2.0</td>\n",
       "      <td>10.0</td>\n",
       "      <td>0.000093</td>\n",
       "    </tr>\n",
       "    <tr>\n",
       "      <th>11</th>\n",
       "      <td>2.0</td>\n",
       "      <td>11.0</td>\n",
       "      <td>0.000093</td>\n",
       "    </tr>\n",
       "    <tr>\n",
       "      <th>12</th>\n",
       "      <td>2.0</td>\n",
       "      <td>12.0</td>\n",
       "      <td>0.000093</td>\n",
       "    </tr>\n",
       "    <tr>\n",
       "      <th>13</th>\n",
       "      <td>2.0</td>\n",
       "      <td>13.0</td>\n",
       "      <td>0.000093</td>\n",
       "    </tr>\n",
       "    <tr>\n",
       "      <th>14</th>\n",
       "      <td>2.0</td>\n",
       "      <td>14.0</td>\n",
       "      <td>0.000093</td>\n",
       "    </tr>\n",
       "    <tr>\n",
       "      <th>15</th>\n",
       "      <td>2.0</td>\n",
       "      <td>15.0</td>\n",
       "      <td>0.000093</td>\n",
       "    </tr>\n",
       "    <tr>\n",
       "      <th>16</th>\n",
       "      <td>2.0</td>\n",
       "      <td>16.0</td>\n",
       "      <td>0.000093</td>\n",
       "    </tr>\n",
       "    <tr>\n",
       "      <th>17</th>\n",
       "      <td>2.0</td>\n",
       "      <td>17.0</td>\n",
       "      <td>0.000093</td>\n",
       "    </tr>\n",
       "    <tr>\n",
       "      <th>18</th>\n",
       "      <td>2.0</td>\n",
       "      <td>18.0</td>\n",
       "      <td>0.000094</td>\n",
       "    </tr>\n",
       "    <tr>\n",
       "      <th>19</th>\n",
       "      <td>2.0</td>\n",
       "      <td>19.0</td>\n",
       "      <td>0.000093</td>\n",
       "    </tr>\n",
       "    <tr>\n",
       "      <th>20</th>\n",
       "      <td>1.0</td>\n",
       "      <td>20.0</td>\n",
       "      <td>0.000093</td>\n",
       "    </tr>\n",
       "  </tbody>\n",
       "</table>\n",
       "</div>"
      ],
      "text/plain": [
       "    dim_grid  dim_block   speedup\n",
       "1       20.0        1.0  0.000076\n",
       "2       10.0        2.0  0.000093\n",
       "3        7.0        3.0  0.000093\n",
       "4        5.0        4.0  0.000093\n",
       "5        4.0        5.0  0.000093\n",
       "6        4.0        6.0  0.000093\n",
       "7        3.0        7.0  0.000093\n",
       "8        3.0        8.0  0.000093\n",
       "9        3.0        9.0  0.000093\n",
       "10       2.0       10.0  0.000093\n",
       "11       2.0       11.0  0.000093\n",
       "12       2.0       12.0  0.000093\n",
       "13       2.0       13.0  0.000093\n",
       "14       2.0       14.0  0.000093\n",
       "15       2.0       15.0  0.000093\n",
       "16       2.0       16.0  0.000093\n",
       "17       2.0       17.0  0.000093\n",
       "18       2.0       18.0  0.000094\n",
       "19       2.0       19.0  0.000093\n",
       "20       1.0       20.0  0.000093"
      ]
     },
     "execution_count": 152,
     "metadata": {},
     "output_type": "execute_result"
    }
   ],
   "source": [
    "s_cuda = et[(et.program == \"cuda1\") & (et.size_matrix == 20)][['dim_grid', 'dim_block', 'speedup']], et[(et.program == \"cuda2\") & (et.size_matrix == 20)][['dim_grid', 'dim_block', 'speedup']], et[(et.program == \"cuda3\") & (et.size_matrix == 20)][['dim_grid', 'dim_block', 'speedup']]\n",
    "b_cuda = et[(et.program == \"cuda1\") & (et.size_matrix == 8000)][['dim_grid', 'dim_block', 'speedup']], et[(et.program == \"cuda2\") & (et.size_matrix == 8000)][['dim_grid', 'dim_block', 'speedup']], et[(et.program == \"cuda3\") & (et.size_matrix == 8000)][['dim_grid', 'dim_block', 'speedup']]\n",
    "s_cuda[0]"
   ]
  },
  {
   "cell_type": "markdown",
   "metadata": {},
   "source": [
    "#### Plotting functions"
   ]
  },
  {
   "cell_type": "code",
   "execution_count": 190,
   "metadata": {
    "collapsed": false
   },
   "outputs": [],
   "source": [
    "def plot_small(dim=\"block\"):\n",
    "    for i in range(3):\n",
    "        plot.plot(s_cuda[i][\"dim_\"+dim], s_cuda[i]['speedup'], \"x-\", label=\"cuda\"+str(i+1))\n",
    "    plot.xlabel(\"Block Size\")\n",
    "    plot.ylabel(\"Speedup from serial version\")\n",
    "    plot.legend(loc='best')\n",
    "    \n",
    "def plot_big(start_size=1, dim=\"block\"):\n",
    "    for i in range(3):\n",
    "        plot.plot(b_cuda[i][\"dim_\"+dim], b_cuda[i]['speedup'], \"-\", label=\"cuda\"+str(i+1))\n",
    "    plot.xlabel(\"Block Size\")\n",
    "    plot.ylabel(\"Speedup from serial version\")\n",
    "    plot.xscale(\"log\")\n",
    "    plot.legend(loc='best')\n",
    "\n",
    "def plot_alone(size, id_program, dim=\"block\"):\n",
    "    if size == \"b\":\n",
    "        plot.plot(b_cuda[id_program][\"dim_\"+dim], b_cuda[id_program]['speedup'], \"-\", label=\"cuda\"+str(id_program))\n",
    "    elif size == \"s\":\n",
    "        plot.plot(s_cuda[id_program][\"dim_\"+dim], s_cuda[id_program]['speedup'], \"x\", label=\"cuda\"+str(id_program))\n",
    "    plot.xlabel(\"Block Size\")\n",
    "    plot.ylabel(\"Speedup from serial version\")\n",
    "    plot.legend(loc='best')"
   ]
  },
  {
   "cell_type": "code",
   "execution_count": 191,
   "metadata": {
    "collapsed": false
   },
   "outputs": [
    {
     "data": {
      "image/png": "[encoded data removed]",
      "text/plain": [
       "<matplotlib.figure.Figure at 0x109d792e8>"
      ]
     },
     "metadata": {},
     "output_type": "display_data"
    }
   ],
   "source": [
    "plot_big('block')"
   ]
  },
  {
   "cell_type": "code",
   "execution_count": null,
   "metadata": {
    "collapsed": false
   },
   "outputs": [],
   "source": []
  },
  {
   "cell_type": "code",
   "execution_count": null,
   "metadata": {
    "collapsed": false
   },
   "outputs": [],
   "source": []
  },
  {
   "cell_type": "code",
   "execution_count": null,
   "metadata": {
    "collapsed": false
   },
   "outputs": [],
   "source": []
  },
  {
   "cell_type": "code",
   "execution_count": null,
   "metadata": {
    "collapsed": false
   },
   "outputs": [],
   "source": []
  },
  {
   "cell_type": "code",
   "execution_count": null,
   "metadata": {
    "collapsed": true
   },
   "outputs": [],
   "source": []
  }
 ],
 "metadata": {
  "anaconda-cloud": {},
  "kernelspec": {
   "display_name": "Python [Root]",
   "language": "python",
   "name": "Python [Root]"
  },
  "language_info": {
   "codemirror_mode": {
    "name": "ipython",
    "version": 3
   },
   "file_extension": ".py",
   "mimetype": "text/x-python",
   "name": "python",
   "nbconvert_exporter": "python",
   "pygments_lexer": "ipython3",
   "version": "3.5.2"
  }
 },
 "nbformat": 4,
 "nbformat_minor": 0
}
